{
  "nbformat": 4,
  "nbformat_minor": 0,
  "metadata": {
    "colab": {
      "provenance": []
    },
    "kernelspec": {
      "name": "python3",
      "display_name": "Python 3"
    },
    "language_info": {
      "name": "python"
    }
  },
  "cells": [
    {
      "cell_type": "code",
      "source": [
        "import os\n",
        "import requests\n",
        "import csv\n",
        "from bs4 import BeautifulSoup\n",
        "from itertools import zip_longest\n",
        "result = requests.get('https://www.dubizzle.com.eg/en/vehicles/cars-for-sale/q-cars/')\n",
        "src = result.content\n",
        "soup = BeautifulSoup(src, 'lxml')\n",
        "titles = []\n",
        "image_urls = []\n",
        "prices = []\n",
        "locations = []\n",
        "description = []\n",
        "links=[]\n",
        "cars = soup.find_all('h2', {'class': 'a5112ca8'})\n",
        "price = soup.find_all('span', {'class': '_95eae7db'})\n",
        "picture_elements = soup.find_all('picture', {'class': '_219b7e0a'})\n",
        "car_link_element = soup.find_all('div',{'class':'ee2b0479'})\n",
        "\n",
        "for picture_element in picture_elements:\n",
        "    img_tag = picture_element.find('img')\n",
        "    image_urls.append(img_tag['src'])\n",
        "\n",
        "for i in range(len(cars)):\n",
        "    titles.append(cars[i].text)\n",
        "    prices.append(price[i].text)\n",
        "    links.append('https://www.dubizzle.com.eg/' + car_link_element[i].find('a').attrs['href'])\n",
        "for link in links:\n",
        "  res=requests.get(link)\n",
        "  scr=res.content\n",
        "  soup=BeautifulSoup(scr,'lxml')\n",
        "  des=soup.find_all('div',{'class':'_0f86855a'})\n",
        "  for i in range(len(des)):\n",
        "    description.append(des[i].find('span').text +'\\n')\n",
        "#for i in range(len(des)):\n",
        "  #description.append(des[i].find('span').text)\n",
        "\n",
        "# Create the \"allimag\" folder if it doesn't exist\n",
        "folder_name = 'allimag'\n",
        "if not os.path.exists(folder_name):\n",
        "    os.makedirs(folder_name)\n",
        "\n",
        "# Download and save images\n",
        "images = []\n",
        "for i, image_url in enumerate(image_urls):\n",
        "    response = requests.get(image_url)\n",
        "    if response.status_code == 200:\n",
        "        # Get the content of the response (image file data)\n",
        "        image_data = response.content\n",
        "\n",
        "        # Save the image file in the \"allimag\" folder\n",
        "        file_name = f'{folder_name}/image{i}.jpg'\n",
        "        with open(file_name, 'wb') as file:\n",
        "            file.write(image_data)\n",
        "        images.append(file_name)\n",
        "\n",
        "data = zip_longest(titles, prices, images,description,links)\n",
        "\n",
        "with open('output.csv', 'w', encoding='utf-8-sig', newline='') as myfile:\n",
        "    wr = csv.writer(myfile)\n",
        "    wr.writerow(['Title', 'Price', 'Image','description','links'])\n",
        "    wr.writerows(data)"
      ],
      "metadata": {
        "id": "Hr2A4g5Zuh5_"
      },
      "execution_count": null,
      "outputs": []
    },
    {
      "cell_type": "code",
      "source": [
        "print(description)"
      ],
      "metadata": {
        "colab": {
          "base_uri": "https://localhost:8080/"
        },
        "id": "n2VAY_TJUmOm",
        "outputId": "29983d05-4f79-47dc-f829-405f1ee3af6a"
      },
      "execution_count": null,
      "outputs": [
        {
          "output_type": "stream",
          "name": "stdout",
          "text": [
            "['بالتقسيط c180 amg 2024  لون مميز بترولي ٣٠%مقدم بصوره البطاقه وعنوان العمل فقط \\n٠١٠٠٨١٦٤٤٤٤\\nC180\\n AMG \\n2024 \\nFully loaded \\n\\n\\n\\nبترولي فرش الكنتارا \\n فوانيس led high performance \\n چنط 18 جديد\\n كاميرا 360\\nحساسات اماميه و خلفيه \\nديكور داخلي كاربون فايبر\\nنقطه عمياء / Blind spot \\n سقف بانوراما\\n شيفت طاره\\n طاره AMG كهرباء\\n تكييف خلفي\\nمثبت سرعه “توافقي” Adaptive \\nسماعات Burmester\\n كراسي كهرباء بالكامل \\nميموري  كراسي\\n سخانات  كراسي\\n شاحن موبايل لاسلكي  \\nنظام المحافظه  الحاره المروريه \\nنظام مساعد انتباه \\nنظام المساعده علي الفرامل\\nرساله ترحيب\\n عتب داخلي مضئ٠١٠٢٤٤٤٦٨٦٨\\n', 'mercedes sprinter 2022\\n1800 KM\\nيوجد اقل مقدم واطول فتره سداد\\nبمقدم\\n4000000\\nللاستفسار برجاء الاتصال علي 01029400004\\n', 'range rover velar\\n2024\\nNEW\\nيوجد اقل مقدم واطول فتره سداد\\nبمقدم\\n2500000\\nللاستفسار برجاء الاتصال علي 01029400004\\n', 'range rover velar\\n2024\\nNEW\\nيوجد اقل مقدم واطول فتره سداد\\nبمقدم\\n2500000\\nللاستفسار برجاء الاتصال علي 01029400004\\n', 'استورد عربيتك بنفسك\\nمع غندور اوتو\\nزيرو جمارك\\nاستلام بعد 60 يوم\\n\\nكلمنا لمزيد من التفاصيل\\n\\n01144468883\\n\\nنستورد السيارات الاوروبيه بنزين/هايبرد/كهربا الى مصر زيرو جمارك حسب الطلب. \\n\\nزورو موقعنا\\nwww. Ghandourauto. com\\n', 'Chery Tiggo 3 2024 بأحسن خصومات\\n\\nجميع أنظمه التقسيط\\n\\nمتاح لدينا ألوان\\n\\nأقل مقدم أطول فتره سداد جميع أنواع السيارات\\n\\n\\nأنظمة قسيط بصورة البطاقة\\nأنظمة تقسيط حتى 8 سنوات\\nأنظمة تقسيط بدون استعلام عمل\\nأنظمة تقسيط بدون تأمين أو مصاريف بنكية\\nأنظمة تقسيط لربات المنازل أو بدون عمل\\nأنظمة تقسيط بدون مقدم لموظفي الحكومة والأطباء وأساتذة الجامعات\\nأقل سعر ممكن\\nأسهل إجراءات\\nسرعة تسليم\\nاستبدال المستعمل بازيرو\\nتقسيط السيارات المستعملة\\n\\nللتواصل\\n01008592692\\n01028031292\\n', 'كوبرا ليون \\n2024\\nمتوفر جميع الالوان\\nارخص سعر في مص ر \\nكاش او تقسيط\\n', 'Range Rover Sport HSE\\nModel 2023\\nwarranty MTI\\nZERO\\n\\nfor more info :\\n\\n01001095081\\n01002202222\\n01002105243\\n0111 2152222\\n0111 4877400\\n\\nOr visit us at:\\n\\n18 ElTayarn . st Nasrcity\\nhttps://bit. ly/Tayran-Cars\\n\\nFacebook page:\\nhttps://bit. ly/eltayaran-FB\\n\\ninstagram page :\\nhttps://bit. ly/eltayaran-IN\\n', 'toyota fortuner 2024\\nاقل مقدم و اطول فتره للسداد \\nمقدم : 875000\\n4000 CC\\n', 'MG HS Trophy 2023 بأرخص سعر في مصر\\n\\nبأقل مقدم و أطول فتره سداد\\n\\npanoramic sunroof\\n\\nفرش جلد\\n\\nكراسي كهربا\\n\\nمرايات ضم\\n\\nبصمه\\n\\nESP\\n\\nABS\\n\\nEBD\\n\\nحساسات\\n\\nstart/stop engine\\n\\n\\nأنظمة قسيط بصورة البطاقة\\nأنظمة تقسيط حتى 7 سنوات\\nأنظمة تقسيط بدون استعلام عمل\\nأنظمة تقسيط بدون تأمين أو مصاريف بنكية\\nأنظمة تقسيط لربات المنازل أو بدون عمل\\nأنظمة تقسيط بدون مقدم لموظفي الحكومة والأطباء وأساتذة الجامعات\\nأقل سعر ممكن\\nأسهل إجراءات\\nسرعة تسليم\\nاستبدال المستعمل بازيرو\\nتقسيط السيارات المستعملة\\n', 'اقل مقدم في مصر . بدون تأمين , بدون مصاريف اداريه . .  اول 3 شهور قسط علينا  او كاش باك هديه.\\n', '#Hyundai Tucson Model 2022 \\nالفئة الرابعة \\nالسياره فابريكا بالكامل من الداخل والخارج \\nعداد ٣٧ الف كيلو فقط \\nصيانات توكيل بالفواتير \\n_-_-_-_-_-_-_-_-_-_-_-_-_-_-_-_-_-_-_-_-_-_-_-_-_-_-_-_-_-_-_-_\\nالمواصفات :- \\nجنوط سبور - عدادات ديجيتال - كرسي كهرباء - تكييف أمامي وخلفي - مالتي فانكشن - شيفتات طارة - ستارت انجين - بصمة خارجية - سقف بانوراما - مرايات تعتيم - ليد أمامي و خلفي - إشارات بالمرايات - فوج لايت - ليد نهاري - حساسات مصابيح أمامية - مرايات جانبيه كهربائيه - مرايات ضم - زجاج معتم - شاشة تاتش - كاميرا خلفية - فرامل يد كهربائية - نظام ايموبليزر ضد السرقة - حساسات ركن أمامية وخلفية - مفتاح دوارة عن بعد - مثبت سرعة - أنظمة مراقبة الأطارات - Apple & Android car play - wireless charger - Bluetooth - USB - Aux - Abs - EBD - Esb - Air bags \\nالعربية دي موجودة في فروع اكسبريس أوتو بأقل مقدم 30% فقط وبأبسط الإجراءات \\n\\nمتاح امكانية البدل و التقسيط \\nعروض التقسيط عندنا مبتنتهيش وتقدر تختار اللى يناسبك \\nبدون تأمين \\nبدون مصاريف ادارية\\nبدون استعلام عمل\\nتقسيط حتى 8 سنوات\\nللمعاينة فروعنا مش بعيده عليك \\n الفرع الأول\\nمدينة االعبور الحى الخامس خلف العالمية للزراعة \\n  \\n الفرع الثاني\\nطريق مصر إسماعيلية الصحراوي بجوار الأكوابارك وأمام مدينة المستقبل \\n \\nللاستفسار \\n01287233374\\n01007004494\\n01007788507\\n01022825875 \\n01115582266\\nوتقدر تتابعنا على الصفحات الرسمية الخاصة بالشركة \\nFacebook /  \\nInstagram /  \\n#اكسبريس_اوتو \\n#عربيات_مستعمله_للبيع \\n#قيمة_وجوده_وأرخص_سعر\\n', 'كيا ريو 2015 أعلى فئة فتحة سقف جنط ABS \\nراشة جنب نظافة دواخل فابريكة بالكامل إمكانية الكشف\\n', 'لقطة وفرصة حقيقية لظروف السفر فعلا للخارج ولهواة التميز والفخامة - نيسان سنترا يابانى -جميع الكماليات اتوماتيك -فتيس استبترونيك 6 نقلات -مرايات كهربا - تكييف ثلاجة -فوج لايت -كاسيت اورجينال-مفتاح شفرة ضد السرقة -ايرباج -A B S - U S B - زجاج مانع للشمس -جهاز تنبية ضد السرقة -كاوتش جديد - بطارية جديدة فى الضمان -الصيانة بالتوكيل بالفواتير والكتالوجات -62000 كم - حالة شاذة جدا من الحالات النادرة -المعاينة بمساكن الشيراتون -ملحوظة * رجاء احضار فنى لضيق الوقت - لا للتجار\\n', 'استعد لإكتشاف القوه والرفاهية وتنوع فريد \\nللقياده مع \\n\\nOpel Grandland 2024\\n\\n حيث تلتقي الأناقة والقوة \\n\\n“”متوفرة بجميع ألوانها وفئاتها “”\\n \\n\\n إستلام فوري مع اقوى عروض التقسيط \\nوارخص سعر فمصر بالاضافه الى خصم 20% في حالة الدفع النقدي بالوديعة  البنكيه \\n\\n$ كاش وجميع انظمه التقسيط $ \\n\\n أقل مقدم 30% بفترة سداد تصل الى 8 سنوات\\n بمقدمات تبدأ من 25٪ للموظفين واصحاب الاعمال الحره\\n عروض بدون مقدم نهائيا لموظفين شركات البترول و قطاع الانشئات / للاطباء البشري / واطباء الاسنان / ولدكتور الصيدلي \\n تأمين ومصاريف إدارية هدية\\n متاح تقسيط لربه المنزل والمعاشات\\n\\n* وبدون تأمين اجباري*\\n\\n* ويمكنك استبدال عربيتك القديمه بالجديده *\\n\\nللاستفسار : 01286432189\\n', 'Renault Twizy \\n2020 \\n5000 km \\ndeposite. 170000 \\nللاستفسار برجاء الاتصال علي 01029400004\\n', 'الفئه الثانيه عداد ١٤٠ الف كم فبريكه بالكامل عدا الاكصدامين و رفرف فقط بحاله مميزه جداً صالون بحاله الزيرو\\n', 'Porsche Cayenne Coupe S 2024 Fully Loaded\\nimported \\nbrand new\\n', 'رينو لوجان ٢٠١٧ مانيوال  الفئه التانيه ، زجاج كهرباء مرايات كهرباء تكييف يعمل بكفاءه كاوتش حالته ممتازه ، بطاريه فارتا الماني \\nعداد ١٥٢ الف كيلو، حاله الموتور ممتازه  \\nراشه حزام\\nشنطه وسقف فبريكه ، الناحيه اليمين خبطت في حجر فتحت ايرباج يمين وتم عمله في التوكيل ، كانت بتعمل صيانات في التوكيل لحد ٢٠٢٢  \\nمستعد للكشف ، وده اللي فيها بالظبط\\nالعربيه مش محتاجه مصروف نهائي\\n مالك اول من الزيرو\\nتم تنزيل السعر لسرعه البيع\\nفون او واتس 01091151068\\n', 'متاح انظمه تقسيط بالتعاون مع جميع البنوك والشركات\\nاطول فتره سداد\\nاققل مقدم\\nمتاحه الان داخل مول سيارات علاء الدين\\n٢٠ميدان الضاهر\\nالقاهره\\n٠١٠٢٩٩١٠٦٤٠\\n', 'ستورد عربيتك بنفسك\\nمع غندور اوتو\\nزيرو جمارك\\nاستلام بعد 60 يوم\\n\\nكلمنا لمزيد من التفاصيل\\n\\n01023650748\\n\\nنستورد السيارات الاوروبيه بنزين/هايبرد/كهربا الى مصر زيرو جمارك حسب الطلب. \\n\\nزورو موقعنا\\nwww. Ghandourauto. com\\nنقوم باستخراج شهادة اليورو وان وتصدير السيارة من اوروبا مع مراعاة جميع اجراءات الشحن والتخليص والتأمين حتى تسليم السيارة من مكتبنا 219 ش. التسعين الجنوبي التجمع الخامس\\n', '#DIAMOND_AUTOMOTIVE\\n#THE_BEST_OR_NOTHING \\n\\n Hyundai elentra \\nC7n\\nالفئة التانية كاملة\\n٢٠٢٤\\nمتاح جميع الالوان\\nZeroo\\n\\nالمعاينه : 29 عبدالراحد فهمي مصر الجديده\\n\\nللتواصل و الاستعلام \\n\\n01065180570\\n01125784087\\n', 'رينو فلوانس ٢٠١٦ اعلي فئة فتحة سقف وبخاخات كاميرا خلفية وحساسات انتظار عداد ١٨٨ الف فابريكة بالكامل بالداخل والخارج صيانات كاملة منتظمة السعر نهائي تم تنزيله من ٦٥٠ الف .\\n', 'الوحش الياباني  تويوتا فورتشنر ٢٠١٦ الوحيده في مصر \\nالمستعمل عندنا زيرووو\\nموديل  2016 \\nمافيش منها تاني في مصر \\nالمكنه الكبيره 4000cc\\nعداد 100 الف \\nصيانات توكيل. كامله \\nمالك اول من الزيرو \\nاستبن لم يستخدم \\nمن نوادر الجندي موتورز\\n', 'السعر المعروض في الاعلان هو مقدم السيارة\\n\\nMB GLA180\\nAMG\\n2023\\n3000KM\\nامكانية البدل وتسهيلات في السداد\\nعروض خاصه اسأل عن العرض المناسب لأمكانياتك\\nزيرو مقدم\\nقروض تصل ل 10 مليون جم\\nامكانية تقسيط التأمين ويوجد انظمه بدون تأمين\\nبدون حظر بيع\\nبدون استعلام\\nتاني أسأل عن العرض المناسب لأمكانياتك . .\\n', 'اقل مقدم في مصر . بدون تأمين , بدون مصاريف اداريه . .  اول 3 شهور قسط علينا  او كاش باك هديه.\\n', 'معمول جميع الصيانات بالكامل\\n', 'bmw x6 \\nm60 \\n2024 \\nwakeel\\nاستلام فوري\\n\\nللتواصل 01152207522\\n', 'فيات ١٢٨ مشدودة \\nكراسي فيرنا وكسوة جلد لونين \\nطقم جنوط سبور  كاوتش ممتاز \\nبطارية جديدة في الضمان \\nموتور استيراد مثبوت علي الرخصة \\nسنتر لوك بالريموت \\nسمكرة وبوية جديدة بدون خربوش \\n٤ زجاج كھربا\\nرخصة سنة مرور الجيزة \\nممتازة في السفر وفي استھلاك البنزين \\nحالة ممتازة \\nالصور واضحة وامكانية صور اكتر عبر الواتس\\n', 'MG Rx5 فابريكا بالكامل متاح تقسيط\\n', '“ سوزوكي_سويفت_2024 Two Tone  “\\nمتوفره قسط او كاش\\n\\n\\nللتواصل مع مسئول المبيعات:\\n01066040069/01103700279\\n01552329004/01005349004\\n\\nالعنوان:\\nدمياط الجديدة نهاية شارع الصعيدي بجوار كليه طب بنين\\n', 'استعد لإكتشاف القوه والرفاهية وتنوع فريد \\nللقياده مع \\n \\nSubaru Crosstrek 2024\\n\\n حيث تلتقي الأناقة والقوة \\n\\n“”متوفرة بجميع ألوانها وفئاتها “”\\n \\n\\n إستلام فوري مع اقوى عروض التقسيط \\nوارخص سعر فمصر بالاضافه الى خصم 20% في حالة الدفع النقدي بالوديعة  البنكيه \\n\\n$ كاش وجميع انظمه التقسيط $ \\n\\n أقل مقدم 30% بفترة سداد تصل الى 8 سنوات\\n بمقدمات تبدأ من 25٪ للموظفين واصحاب الاعمال الحره\\n عروض بدون مقدم نهائيا لموظفين شركات البترول و قطاع الانشئات / للاطباء البشري / واطباء الاسنان / ولدكتور الصيدلي \\n تأمين ومصاريف إدارية هدية\\n متاح تقسيط لربه المنزل والمعاشات\\n\\n* وبدون تأمين اجباري*\\n\\n* ويمكنك استبدال عربيتك القديمه بالجديده *\\n\\nللاستفسار : 01281917098\\n', 'فولكس فاجن تيجوان ار لين 2024\\nلم ترخص \\nزيرو \\nالتواصل فون او واتس 01060601339\\n', 'jaguar 2020 wakeel \\n17000km\\nصيانات الوكيل ضمان الوكيل\\n01018130182\\n', 'اقل مقدم في مصر . بدون تأمين , بدون مصاريف اداريه . .  اول 3 شهور قسط علينا  او كاش باك هديه\\n', 'C 180\\nSmartphone integration package\\nApple Carplay smartphone integration\\nAndroid Auto smartphone integration\\nBlind Spot Monitoring\\nActive Parking Assist\\nActive Lane Keeping Assist (camera)\\nDigital LED headlamps, right-side traffic\\nrain sensor\\nEcall emergency call system\\n9-speed automatic transmission\\nCruise control\\n360° camera\\nSeat heaters for driver and front passenger\\nHeated windscreen washer system\\nInterior lighting package\\nPremium ambiance illumination\\nKEYLESS-Start\\nFront wireless telephone charging\\n12 V PTC heater booster\\ni-Size marking (Isofix successor)\\nFuel tank with large capacity \\nStandard power variant\\n48V technology\\nEngine power category under 151 kW\\nControl code for 25,000 km service interval\\nNoise regulations as per ECE R51-03\\nSport steering wheel - Smooth split leather\\nDisplacement 1.5 liter\\nInline 4-cylinder \\nWheel size 17\" all-round variant 3\\nFront passenger seat with weight sensor\\n\\nمتاح تقسيط لجميع البنوك والشركات\\nبمقدمات تبدأ من 15%\\nتقسيط من سنة لحد 7 سنوات\\nاستلام فوري\\n01156664445\\n', 'إستمتع بالأداء والراحة كما لم تعهدهم من قبل مع \\n\\nSkoda Superb 2024\\n\\nمتوفرة الآن إستلام فوري \\n\\n برامج تقسيط مميزة\\n أقل مقدم 30% بفترة سداد تصل الى 8 سنوات\\n تأمين ومصاريف إدارية هدية\\n بالإضافة الى خصم 20% في حالة الدفع النقدي بالوديعة البنكية\\n مع إمكانية إستبدال عربيتك القديمة بالجديدة وتقسيط الفرق\\n\\n-جميع الالوان\\n-كاش وجميع انظمه التقسيط\\n* بمقدمات تبدأ من 25٪ للموظفين واصحاب الاعمال الحره\\n\\n* عروض بدون مقدم نهائيا للموظفين شركات البترول و قطاع الانشئات / للاطباء البشري / واطباء الاسنان / ولدكتور الصيدلي \\n\\n* عروض تأمين هديه وبدون مصاريف اداريه\\n\\n* وبدون تأمين اجباري\\n\\n* متاح تقسيط لربه المنزل والمعاشات\\n\\n** ويمكنك استبدال عربيتك القديمه بالجديده\\n\\nللاستفسار : 01281917098\\n', 'WIND – Z Series\\n2024\\n4 Seats\\n6 Seats\\nمتوفر الوان: أزرق - فيراني - احمر - اصفر - كحلي\\n\\nيوجد اقل مقدم واطول فتره سداد\\nبمفدم 220000\\nبرجاء الاتصال علي 01029400004\\n', 'Mercedes Benz C180 Amg \\nBlack X Black \\n2022\\n20.000 Km only\\nwakeel\\nall fabric \\nfor more information call us at :\\n01200777187\\n01220002037\\n', '#كيا اسبورتاج \\nموديل 2022\\nعداد20000 كم لون فضى اول فئه\\n الأول في سـوق السيارات بأفضل أنـواع السيارات المستعملة وكسر الزيرو وأقوى عروض تقسيط المستعمل في مصـر  . \\n\\u2066\\u2069الآن بالتعاون مع أقوى العروض البنكية لتمويل السيارات\\n\\u2066\\u2069أقل فائدة   \\n اقل المقدمات تبدأ من %20\\nبدون مصاريف إدارية وبدون تأمين \\nأطول فترات السداد تصل حتي 8 سنوات \\n تقسيط لجميع محافظات الجمهورية\\n تتوفر جميع طرق الدفع \\nيتم فحص ومعاينة السيارات المقدمة\\n\\u2066\\u2069يتوفر تقسيط مباشر واستلام فورى بصورة البطاقة \\nاستلم سيارتك باسهل الإجراءات قدم لنا إثبات الدخل واستلم في اقل من ٤٨ساعة اسرع موافقة في مصر من أوتوهــاب تقسيط لكل الناس أسعارنا منطقية والمستعمل عندنا جديد وتحدي\\n اسم يعني الثقة  Eltahan Auto Hub\\n#شعارانا المصداقية والشفافية بالمعلومات المقدمة  عن حالةالسيارات المعروضة التي تم انتقائها لعملائنا الكرام هدفنا كسب ثقتكم الغالية\\n#تعرف على السيارات المتوفرة هنا\\nhttps://www. facebook. com/profile. php?\\nid=100087533180078\\nتواصل علي الارقام التاليه\\n٠١٠١٥١٣٧٨٤٤\\n٠١٠٠٠١٠٠٤٠٩\\n٠١٠٢٨٢٠١٥٩١\\n-مستنينكم في معرضنا : \\n 129 شارع عبد الحميد بدوى النزهه أمام نادى الشمس ، محافظة القاهرة\\u202c\\n**************************\\n مواعيد العمل الرسمية : طوال أيام الأسبوع من الساعة 12 ظهراً إلي الساعة\\n', 'اللي بتدور عليه هتلاقيه في سوكون بيك اب من تيربو اوتو مصر \\n\\nلأنها عربية مناسبة للشغل و المشاريع و بتوفرلك مساحة كبيرة للبضائع\\nو بتسهلك نقل المواد و الأدوات التقيلة و بتساعدك على إنجاز شغلك بسرعة و سهولة\\n\\n- سعة الموتور 1100 cc و قوة الموتور 63 حصان . \\n- عربية سوكون بيك اب تقدر تشيل لحد 1 طن\\n- عربية سوكون بيك اب مكيفة  \\n\\nمستني ايه عشان تطلبها ؟\\n', 'Eltahan Auto Hub \\nتسليم  فورى اقل من السعر الرسمى 90 الف \\nتيوتا تانى فئه زيررررررررررو  موديل 2023 خليجى \\nEltahan Auto Hub اسم يعنى الثقه \\nتواصل علي الارقام التاليه\\n٠١٠١٥١٣٧٨٤٤\\n٠١٠٠٠١٠٠٤٠٩\\n٠١٠٢٨٢٠١٥٩١\\n-مستنينكم في معرضنا : \\n 129 شارع عبد الحميد بدوى النزهه أمام نادى الشمس ، محافظة القاهرة\\u202c\\n**************************\\n مواعيد العمل الرسمية : طوال أيام الأسبوع من الساعة 12 ظهراً إلي الساعة\\n', 'اقل مقدم في مصر . بدون تأمين , بدون مصاريف اداريه . .  اول 3 شهور قسط علينا  او كاش باك هديه.\\n', 'Bmw 320i Msport\\nWakeel\\nModel : 2023\\nMileage: 5000 km \\nAll fabric\\nInstallment available \\nFor more information call : \\n\\n01200777201\\n01200777187\\n01220002037\\n', 'C180 avantgard\\n2022\\n10.000 Km \\nall fabric \\nلسا مرخصتش\\nيوجد كاش و تقسيط\\nfor more information : \\n+20 114 098 0480\\n', 'WIND – Z Series\\n2024\\n4 Seats\\n6 Seats\\nمتوفر الوان: أزرق - فيراني - احمر - اصفر - كحلي\\n\\nيوجد اقل مقدم واطول فتره سداد\\nبمفدم 220000\\nبرجاء الاتصال علي 01029400004\\n', 'استعد لإكتشاف القوه والرفاهية وتنوع فريد \\nللقياده مع \\n\\nSkoda Octavia A8 2024\\n\\n حيث تلتقي الأناقة والقوة \\n\\n“”متوفرة بجميع ألوانها وفئاتها “”\\n \\n\\n إستلام فوري مع اقوى عروض التقسيط \\nوارخص سعر فمصر بالاضافه الى خصم 20% في حالة الدفع النقدي بالوديعة  البنكيه \\n\\n$ كاش وجميع انظمه التقسيط $ \\n\\n أقل مقدم 30% بفترة سداد تصل الى 8 سنوات\\n بمقدمات تبدأ من 25٪ للموظفين واصحاب الاعمال الحره\\n عروض بدون مقدم نهائيا لموظفين شركات البترول و قطاع الانشئات / للاطباء البشري / واطباء الاسنان / ولدكتور الصيدلي \\n تأمين ومصاريف إدارية هدية\\n متاح تقسيط لربه المنزل والمعاشات\\n\\n* وبدون تأمين اجباري*\\n\\n* ويمكنك استبدال عربيتك القديمه بالجديده *\\n\\nللاستفسار : 01286432189\\n', \"New  arrival \\n#ملوك_كسر_الزيرووو \\n Range rover Evouqe P200 2000CC \\n 2023\\n 1500 km only  \\n protection \\n\\nPanorama - blind spot area - Meridian sound system  - Electrical  Seat's \\n  زيرووو \\n#Auto_Garage \\nمش اي عربيه \\n For more details please  \\n  01277288838\\n 01120008100\\n\", '8600 km take or leave it\\n', 'فابريكه بره وجوه مرور القاهره رخصه سنه لم تستخدم   صيانات توكيل باستمرار\\n٠١٢٢٧٣٢٠٧٥٦\\n']\n"
          ]
        }
      ]
    },
    {
      "cell_type": "code",
      "source": [
        "for link in links:\n",
        "  res=requests.get(link)\n",
        "  scr=res.content\n",
        "  soup=BeautifulSoup(scr,'lxml')\n",
        "  des=soup.find_all('span',{'class':'_6d5b4928'})\n",
        "for i in range(len(des)):\n",
        "  description.append(des[i].text)"
      ],
      "metadata": {
        "id": "lx-J3vsBIcPr"
      },
      "execution_count": null,
      "outputs": []
    },
    {
      "cell_type": "code",
      "source": [
        "print(description)"
      ],
      "metadata": {
        "colab": {
          "base_uri": "https://localhost:8080/"
        },
        "id": "0uV2W6X_PGPJ",
        "outputId": "a548b578-e464-4578-caca-83207299356f"
      },
      "execution_count": null,
      "outputs": [
        {
          "output_type": "stream",
          "name": "stdout",
          "text": [
            "['جيب رينجيد ٢٠٢٢ هاى لاين فبريكا بالكامل عداد ٧٠ الف كم صيانات توكيل و يوجد جميع انواع التقسيط بنوك و شركات و مباشر']\n"
          ]
        }
      ]
    },
    {
      "cell_type": "code",
      "source": [
        "for link in links:\n",
        "  res=requests.get(link)\n",
        "  scr=res.content\n",
        "  soup=BeautifulSoup(scr,'lxml')\n",
        "  des=soup.find_all('div',{'class':'_0f86855a'})\n",
        "for i in range(len(des)):\n",
        "  description.append(des[i].find('span').text)"
      ],
      "metadata": {
        "id": "GclvADNDIbRj"
      },
      "execution_count": null,
      "outputs": []
    },
    {
      "cell_type": "code",
      "source": [
        "for i in range(len(cars)):\n",
        "    titles.append(cars[i].text)\n",
        "    prices.append(price[i].text)\n",
        "    links.append(\"https://www.dubizzle.com.eg/\" + car_link_element[i].find('a').attrs['href'])"
      ],
      "metadata": {
        "id": "LZj3Bg6lmMOB"
      },
      "execution_count": null,
      "outputs": []
    },
    {
      "cell_type": "code",
      "source": [],
      "metadata": {
        "id": "-8PF3PoIs6Sz"
      },
      "execution_count": null,
      "outputs": []
    },
    {
      "cell_type": "code",
      "source": [
        "print(links)"
      ],
      "metadata": {
        "colab": {
          "base_uri": "https://localhost:8080/"
        },
        "id": "--wz3i_Lnfyo",
        "outputId": "d24ca1e2-5478-4b34-9f85-acece087d5c1"
      },
      "execution_count": null,
      "outputs": [
        {
          "output_type": "stream",
          "name": "stdout",
          "text": [
            "['/en/ad/mercedes-c200-2024-ID201060006.html', '/en/ad/cle-200-2024-night-backage-%D8%A7%D8%B9%D9%84%D9%8A-%D9%85%D9%88%D8%A7%D8%B5%D9%81%D9%87-ID200874757.html', '/en/ad/wind-z-2024-%D8%A7%D8%B2%D8%B1%D9%82-4-%D8%B1%D8%A7%D9%83%D8%A8-ID200969112.html', '/en/ad/landrover-defender-edition-110-ID201040853.html', '/en/ad/%D8%AC%D9%85%D9%8A%D8%B9-%D8%A7%D9%84%D8%A7%D9%84%D9%88%D8%A7%D9%86-%D8%AA%D8%B3%D9%84%D9%8A%D9%85-%D9%81%D9%88%D8%B1%D9%8A-glc-%D8%A7%D9%84%D9%83%D9%88%D8%A8%D9%8A%D9%87-%D8%A7%D9%84%D8%B4%D9%83%D9%84-%D8%A7%D9%84%D8%AC%D8%AF%D9%8A%D8%AF-ID199118245.html', '/en/ad/%D8%AA%D9%88%D9%8A%D9%88%D8%AA%D8%A7-fortuner-2024-ID201048249.html', '/en/ad/mercedes-e200-exclusive-2022-ID199568393.html', '/en/ad/skoda-superb-ambition-%D8%A7%D8%B3%D9%83%D9%88%D8%AF%D8%A7-%D8%B3%D9%88%D8%A8%D9%8A%D8%B1%D8%A8-%D8%A7%D8%B1%D8%AE%D8%B5-%D8%B3%D8%B9%D8%B1-%D9%81%D9%8A-%D9%85%D8%B5%D8%B1-ID201051810.html', '/en/ad/%D8%AA%D8%B1%D8%A7%D9%83%D9%88-fr-ID201022880.html', '/en/ad/%D8%AA%D9%88%D9%8A%D9%88%D8%AA%D8%A7-%D9%81%D9%88%D8%B1%D8%AA%D8%B4%D9%86%D8%B1-%D8%A7%D9%84%D9%8A%D8%AC%D8%A7%D9%86%D8%B3-ID200342789.html', '/en/ad/%D8%B3%D9%8A%D8%A7%D8%AA-%D9%84%D9%8A%D9%88%D9%86-fr-%D8%A8%D9%8A%D8%AA%D8%B3-ID200010700.html', '/en/ad/mercedes-glc-200-coupe-ID200084796.html', '/en/ad/bmw-520-i-luxury-line-ID199359285.html', '/en/ad/%D9%85%D8%B1%D8%B3%D9%8A%D8%AF%D8%B3-%D8%A8%D9%86%D8%B2-200-glc-%D9%83%D9%88%D8%A8%D9%8A%D9%87-ID200792590.html', '/en/ad/renault-megane-2022-ID200550896.html', '/en/ad/range-rover-evoque-2023-ID199160603.html', '/en/ad/toyota-corolla-2024-ID200901648.html', '/en/ad/%D8%AA%D9%88%D9%8A%D9%88%D8%AA%D8%A7-%D9%81%D9%88%D8%AA%D8%B4%D9%86%D8%A7%D8%B1-2024-ID201039519.html', '/en/ad/tiggo-8-luxury-5-seat-%D8%A7%D9%83%D8%A8%D8%B1-%D8%AE%D8%B5%D9%85-%D9%81%D9%8A-%D9%85%D8%B5%D8%B1-%D9%84%D9%84%D9%83%D8%A7%D8%B4-ID200084883.html', '/en/ad/chevrolet-menlo-best-offer-ID199757072.html', '/en/ad/range-rover-velar-2024-ID201033029.html', '/en/ad/%D8%B3%D9%86%D8%AA%D8%B1%D8%A7-%D9%81%D8%A7%D8%AE%D8%B1%D8%A9-ID201062398.html', '/en/ad/peugeot-3008-2023-%D8%A8%D9%8A%D8%AC%D9%88-3008-2023-ID200988730.html', '/en/ad/renault-twizy-2020-ID200166335.html', '/en/ad/porsche-cayenne-coupe-s-2024-fully-loaded-ID201057467.html', '/en/ad/opel-mokka-2024-%D8%A3%D9%88%D8%A8%D9%84-%D9%85%D9%88%D9%83%D8%A7-2024-ID200988288.html', '/en/ad/mercedes-benz-cla200-2024-ID201019302.html', '/en/ad/opel-crossland-2024-%D8%A7%D9%88%D8%A8%D9%84-%D9%83%D8%B1%D9%88%D8%B3-%D9%84%D8%A7%D9%86%D8%AF-2024-ID200988000.html', '/en/ad/toyota-corolla-2024-%D8%AA%D9%88%D9%8A%D9%88%D8%AA%D8%A7-%D9%83%D9%88%D8%B1%D9%88%D9%84%D8%A7-2024-ID200987773.html', '/en/ad/%D9%81%D8%A7%D9%86-%D9%86%D9%82%D9%84-%D8%A8%D8%B6%D8%A7%D9%8A%D8%B9-ID201007763.html', '/en/ad/%D8%A8%D9%8A%D8%AC%D9%88-%D9%A3%D9%A0%D9%A7-sw-ID201000213.html', '/en/ad/%D8%AF%D8%A7%D9%8A%D9%87%D8%A7%D8%AA%D8%B3%D9%88-%D9%85%D8%A7%D8%AA%D8%B1%D9%8A%D8%A7-ID200886153.html', '/en/ad/%D8%B9%D8%B1%D9%88%D8%B6-%D8%A7%D9%84%D9%85%D8%AA%D8%AD%D8%AF%D8%A9-%D8%AC%D8%B1%D9%88%D8%A8-%D8%B5%D9%88%D8%B1%D8%A9-%D8%A7%D9%84%D8%A8%D8%B7%D8%A7%D9%82%D8%A9-%D8%A3%D9%82%D9%84-%D9%85%D9%82%D8%AF%D9%85-%D9%87%D9%8A%D9%88%D9%86%D8%AF%D8%A7%D9%8A-%D8%A8%D9%8A%D9%83%D8%A7%D9%86%D8%AA%D9%88-2023-ID200716170.html', '/en/ad/mercedes-eqe350-2023-ID200989004.html', '/en/ad/%D8%A7%D9%85-%D8%AC%D9%8A%D9%A5-ID200795628.html', '/en/ad/aston-martin-dbx-707-ID201009174.html', '/en/ad/range-rover-evoque-2023-ID200795979.html', '/en/ad/%D8%AC%D9%8A%D9%84%D9%8A-%D9%83%D9%88%D9%84-%D8%B1%D8%A7%D9%8A-2024-%D8%AC%D8%AF%D9%8A%D8%AF%D9%87-ID201046776.html', '/en/ad/%D8%B1%D9%8A%D9%86%D9%88-%D8%B3%D8%AA%D9%8A%D8%A8-%D9%88%D8%A7%D9%8A-%D9%A2%D9%A0%D9%A1%D9%A8-%D9%87%D8%A7%D9%8A-%D9%84%D8%A7%D9%8A%D9%86-renault-stepway-2018-ID200440813.html', '/en/ad/seat_tarraco_xperience_2023-ID200095470.html', '/en/ad/mercedes-a180-amg-2023-facelift-ID199889032.html', '/en/ad/%D8%B1%D9%8A%D9%86%D9%88-%D8%AA%D9%88%D9%8A%D8%B2%D9%8A-ID201017445.html', '/en/ad/suzaki-fornex-%D8%B3%D9%88%D8%B2%D9%88%D9%83%D9%8A-%D9%81%D9%88%D8%B1%D9%86%D9%83%D8%B3-ID199652292.html', '/en/ad/toyota-corolla-2024-wakeel-ID200565265.html', '/en/ad/cla-200-2024-amg-ID200893293.html', '/en/ad/mercedes-e300e-2023-ID200065456.html', '/en/ad/%D9%83%D9%8A%D8%A7-%D8%B3%D8%A8%D9%88%D8%B1%D8%AA%D8%A7%D8%AC-%D8%B2%D9%8A%D8%B1%D9%88-%D8%A7%D8%B9%D9%84%D9%8A-%D9%81%D8%A6%D9%87-%D8%A3%D8%B3%D8%A8%D8%B4%D9%8A%D8%A7%D9%84-%D8%A7%D8%AF%D9%8A%D8%B4%D9%86-%D8%B6%D9%85%D8%A7%D9%86-%D8%A7%D9%84%D9%88%D9%83%D9%8A%D9%84-%D9%84%D9%85-%D8%AA%D8%B1%D8%AE%D8%B5-%D9%85%D9%88%D8%AF%D9%8A%D9%84-%D9%A2%D9%A0%D9%A2%D9%A4-ID200825553.html', '/en/ad/%D9%85%D9%8A%D8%AA%D8%B3%D9%88%D8%A8%D9%8A%D8%B4%D9%8A-%D8%A7%D9%83%D9%84%D9%8A%D8%A8%D8%B3-%D8%A8%D8%A7%D9%84%D8%B3%D8%B9%D8%B1-%D8%A7%D9%84%D8%AA%D8%AC%D8%A7%D8%B1%D9%8A-2022-mitsubishi-eclipse-ID201042293.html', '/en/ad/mg-5-2024-%D8%A7%D9%85-%D8%AC%D9%8A-5-2024-ID200987815.html', '/en/ad/%D8%A8%D9%8A%D8%AC%D9%88-408-%D8%AC%D8%AF%D9%8A%D8%AF%D9%87-2024-ID201048378.html', 'https://www.dubizzle.com.eg//en/ad/mercedes-c200-2024-ID201060006.html', 'https://www.dubizzle.com.eg//en/ad/cle-200-2024-night-backage-%D8%A7%D8%B9%D9%84%D9%8A-%D9%85%D9%88%D8%A7%D8%B5%D9%81%D9%87-ID200874757.html', 'https://www.dubizzle.com.eg//en/ad/wind-z-2024-%D8%A7%D8%B2%D8%B1%D9%82-4-%D8%B1%D8%A7%D9%83%D8%A8-ID200969112.html', 'https://www.dubizzle.com.eg//en/ad/landrover-defender-edition-110-ID201040853.html', 'https://www.dubizzle.com.eg//en/ad/%D8%AC%D9%85%D9%8A%D8%B9-%D8%A7%D9%84%D8%A7%D9%84%D9%88%D8%A7%D9%86-%D8%AA%D8%B3%D9%84%D9%8A%D9%85-%D9%81%D9%88%D8%B1%D9%8A-glc-%D8%A7%D9%84%D9%83%D9%88%D8%A8%D9%8A%D9%87-%D8%A7%D9%84%D8%B4%D9%83%D9%84-%D8%A7%D9%84%D8%AC%D8%AF%D9%8A%D8%AF-ID199118245.html', 'https://www.dubizzle.com.eg//en/ad/%D8%AA%D9%88%D9%8A%D9%88%D8%AA%D8%A7-fortuner-2024-ID201048249.html', 'https://www.dubizzle.com.eg//en/ad/mercedes-e200-exclusive-2022-ID199568393.html', 'https://www.dubizzle.com.eg//en/ad/skoda-superb-ambition-%D8%A7%D8%B3%D9%83%D9%88%D8%AF%D8%A7-%D8%B3%D9%88%D8%A8%D9%8A%D8%B1%D8%A8-%D8%A7%D8%B1%D8%AE%D8%B5-%D8%B3%D8%B9%D8%B1-%D9%81%D9%8A-%D9%85%D8%B5%D8%B1-ID201051810.html', 'https://www.dubizzle.com.eg//en/ad/%D8%AA%D8%B1%D8%A7%D9%83%D9%88-fr-ID201022880.html', 'https://www.dubizzle.com.eg//en/ad/%D8%AA%D9%88%D9%8A%D9%88%D8%AA%D8%A7-%D9%81%D9%88%D8%B1%D8%AA%D8%B4%D9%86%D8%B1-%D8%A7%D9%84%D9%8A%D8%AC%D8%A7%D9%86%D8%B3-ID200342789.html', 'https://www.dubizzle.com.eg//en/ad/%D8%B3%D9%8A%D8%A7%D8%AA-%D9%84%D9%8A%D9%88%D9%86-fr-%D8%A8%D9%8A%D8%AA%D8%B3-ID200010700.html', 'https://www.dubizzle.com.eg//en/ad/mercedes-glc-200-coupe-ID200084796.html', 'https://www.dubizzle.com.eg//en/ad/bmw-520-i-luxury-line-ID199359285.html', 'https://www.dubizzle.com.eg//en/ad/%D9%85%D8%B1%D8%B3%D9%8A%D8%AF%D8%B3-%D8%A8%D9%86%D8%B2-200-glc-%D9%83%D9%88%D8%A8%D9%8A%D9%87-ID200792590.html', 'https://www.dubizzle.com.eg//en/ad/renault-megane-2022-ID200550896.html', 'https://www.dubizzle.com.eg//en/ad/range-rover-evoque-2023-ID199160603.html', 'https://www.dubizzle.com.eg//en/ad/toyota-corolla-2024-ID200901648.html', 'https://www.dubizzle.com.eg//en/ad/%D8%AA%D9%88%D9%8A%D9%88%D8%AA%D8%A7-%D9%81%D9%88%D8%AA%D8%B4%D9%86%D8%A7%D8%B1-2024-ID201039519.html', 'https://www.dubizzle.com.eg//en/ad/tiggo-8-luxury-5-seat-%D8%A7%D9%83%D8%A8%D8%B1-%D8%AE%D8%B5%D9%85-%D9%81%D9%8A-%D9%85%D8%B5%D8%B1-%D9%84%D9%84%D9%83%D8%A7%D8%B4-ID200084883.html', 'https://www.dubizzle.com.eg//en/ad/chevrolet-menlo-best-offer-ID199757072.html', 'https://www.dubizzle.com.eg//en/ad/range-rover-velar-2024-ID201033029.html', 'https://www.dubizzle.com.eg//en/ad/%D8%B3%D9%86%D8%AA%D8%B1%D8%A7-%D9%81%D8%A7%D8%AE%D8%B1%D8%A9-ID201062398.html', 'https://www.dubizzle.com.eg//en/ad/peugeot-3008-2023-%D8%A8%D9%8A%D8%AC%D9%88-3008-2023-ID200988730.html', 'https://www.dubizzle.com.eg//en/ad/renault-twizy-2020-ID200166335.html', 'https://www.dubizzle.com.eg//en/ad/porsche-cayenne-coupe-s-2024-fully-loaded-ID201057467.html', 'https://www.dubizzle.com.eg//en/ad/opel-mokka-2024-%D8%A3%D9%88%D8%A8%D9%84-%D9%85%D9%88%D9%83%D8%A7-2024-ID200988288.html', 'https://www.dubizzle.com.eg//en/ad/mercedes-benz-cla200-2024-ID201019302.html', 'https://www.dubizzle.com.eg//en/ad/opel-crossland-2024-%D8%A7%D9%88%D8%A8%D9%84-%D9%83%D8%B1%D9%88%D8%B3-%D9%84%D8%A7%D9%86%D8%AF-2024-ID200988000.html', 'https://www.dubizzle.com.eg//en/ad/toyota-corolla-2024-%D8%AA%D9%88%D9%8A%D9%88%D8%AA%D8%A7-%D9%83%D9%88%D8%B1%D9%88%D9%84%D8%A7-2024-ID200987773.html', 'https://www.dubizzle.com.eg//en/ad/%D9%81%D8%A7%D9%86-%D9%86%D9%82%D9%84-%D8%A8%D8%B6%D8%A7%D9%8A%D8%B9-ID201007763.html', 'https://www.dubizzle.com.eg//en/ad/%D8%A8%D9%8A%D8%AC%D9%88-%D9%A3%D9%A0%D9%A7-sw-ID201000213.html', 'https://www.dubizzle.com.eg//en/ad/%D8%AF%D8%A7%D9%8A%D9%87%D8%A7%D8%AA%D8%B3%D9%88-%D9%85%D8%A7%D8%AA%D8%B1%D9%8A%D8%A7-ID200886153.html', 'https://www.dubizzle.com.eg//en/ad/%D8%B9%D8%B1%D9%88%D8%B6-%D8%A7%D9%84%D9%85%D8%AA%D8%AD%D8%AF%D8%A9-%D8%AC%D8%B1%D9%88%D8%A8-%D8%B5%D9%88%D8%B1%D8%A9-%D8%A7%D9%84%D8%A8%D8%B7%D8%A7%D9%82%D8%A9-%D8%A3%D9%82%D9%84-%D9%85%D9%82%D8%AF%D9%85-%D9%87%D9%8A%D9%88%D9%86%D8%AF%D8%A7%D9%8A-%D8%A8%D9%8A%D9%83%D8%A7%D9%86%D8%AA%D9%88-2023-ID200716170.html', 'https://www.dubizzle.com.eg//en/ad/mercedes-eqe350-2023-ID200989004.html', 'https://www.dubizzle.com.eg//en/ad/%D8%A7%D9%85-%D8%AC%D9%8A%D9%A5-ID200795628.html', 'https://www.dubizzle.com.eg//en/ad/aston-martin-dbx-707-ID201009174.html', 'https://www.dubizzle.com.eg//en/ad/range-rover-evoque-2023-ID200795979.html', 'https://www.dubizzle.com.eg//en/ad/%D8%AC%D9%8A%D9%84%D9%8A-%D9%83%D9%88%D9%84-%D8%B1%D8%A7%D9%8A-2024-%D8%AC%D8%AF%D9%8A%D8%AF%D9%87-ID201046776.html', 'https://www.dubizzle.com.eg//en/ad/%D8%B1%D9%8A%D9%86%D9%88-%D8%B3%D8%AA%D9%8A%D8%A8-%D9%88%D8%A7%D9%8A-%D9%A2%D9%A0%D9%A1%D9%A8-%D9%87%D8%A7%D9%8A-%D9%84%D8%A7%D9%8A%D9%86-renault-stepway-2018-ID200440813.html', 'https://www.dubizzle.com.eg//en/ad/seat_tarraco_xperience_2023-ID200095470.html', 'https://www.dubizzle.com.eg//en/ad/mercedes-a180-amg-2023-facelift-ID199889032.html', 'https://www.dubizzle.com.eg//en/ad/%D8%B1%D9%8A%D9%86%D9%88-%D8%AA%D9%88%D9%8A%D8%B2%D9%8A-ID201017445.html', 'https://www.dubizzle.com.eg//en/ad/suzaki-fornex-%D8%B3%D9%88%D8%B2%D9%88%D9%83%D9%8A-%D9%81%D9%88%D8%B1%D9%86%D9%83%D8%B3-ID199652292.html', 'https://www.dubizzle.com.eg//en/ad/toyota-corolla-2024-wakeel-ID200565265.html', 'https://www.dubizzle.com.eg//en/ad/cla-200-2024-amg-ID200893293.html', 'https://www.dubizzle.com.eg//en/ad/mercedes-e300e-2023-ID200065456.html', 'https://www.dubizzle.com.eg//en/ad/%D9%83%D9%8A%D8%A7-%D8%B3%D8%A8%D9%88%D8%B1%D8%AA%D8%A7%D8%AC-%D8%B2%D9%8A%D8%B1%D9%88-%D8%A7%D8%B9%D9%84%D9%8A-%D9%81%D8%A6%D9%87-%D8%A3%D8%B3%D8%A8%D8%B4%D9%8A%D8%A7%D9%84-%D8%A7%D8%AF%D9%8A%D8%B4%D9%86-%D8%B6%D9%85%D8%A7%D9%86-%D8%A7%D9%84%D9%88%D9%83%D9%8A%D9%84-%D9%84%D9%85-%D8%AA%D8%B1%D8%AE%D8%B5-%D9%85%D9%88%D8%AF%D9%8A%D9%84-%D9%A2%D9%A0%D9%A2%D9%A4-ID200825553.html', 'https://www.dubizzle.com.eg//en/ad/%D9%85%D9%8A%D8%AA%D8%B3%D9%88%D8%A8%D9%8A%D8%B4%D9%8A-%D8%A7%D9%83%D9%84%D9%8A%D8%A8%D8%B3-%D8%A8%D8%A7%D9%84%D8%B3%D8%B9%D8%B1-%D8%A7%D9%84%D8%AA%D8%AC%D8%A7%D8%B1%D9%8A-2022-mitsubishi-eclipse-ID201042293.html', 'https://www.dubizzle.com.eg//en/ad/mg-5-2024-%D8%A7%D9%85-%D8%AC%D9%8A-5-2024-ID200987815.html', 'https://www.dubizzle.com.eg//en/ad/%D8%A8%D9%8A%D8%AC%D9%88-408-%D8%AC%D8%AF%D9%8A%D8%AF%D9%87-2024-ID201048378.html', 'https://www.dubizzle.com.eg//en/ad/mercedes-c200-2024-ID201060006.html', 'https://www.dubizzle.com.eg//en/ad/cle-200-2024-night-backage-%D8%A7%D8%B9%D9%84%D9%8A-%D9%85%D9%88%D8%A7%D8%B5%D9%81%D9%87-ID200874757.html', 'https://www.dubizzle.com.eg//en/ad/wind-z-2024-%D8%A7%D8%B2%D8%B1%D9%82-4-%D8%B1%D8%A7%D9%83%D8%A8-ID200969112.html', 'https://www.dubizzle.com.eg//en/ad/landrover-defender-edition-110-ID201040853.html', 'https://www.dubizzle.com.eg//en/ad/%D8%AC%D9%85%D9%8A%D8%B9-%D8%A7%D9%84%D8%A7%D9%84%D9%88%D8%A7%D9%86-%D8%AA%D8%B3%D9%84%D9%8A%D9%85-%D9%81%D9%88%D8%B1%D9%8A-glc-%D8%A7%D9%84%D9%83%D9%88%D8%A8%D9%8A%D9%87-%D8%A7%D9%84%D8%B4%D9%83%D9%84-%D8%A7%D9%84%D8%AC%D8%AF%D9%8A%D8%AF-ID199118245.html', 'https://www.dubizzle.com.eg//en/ad/%D8%AA%D9%88%D9%8A%D9%88%D8%AA%D8%A7-fortuner-2024-ID201048249.html', 'https://www.dubizzle.com.eg//en/ad/mercedes-e200-exclusive-2022-ID199568393.html', 'https://www.dubizzle.com.eg//en/ad/skoda-superb-ambition-%D8%A7%D8%B3%D9%83%D9%88%D8%AF%D8%A7-%D8%B3%D9%88%D8%A8%D9%8A%D8%B1%D8%A8-%D8%A7%D8%B1%D8%AE%D8%B5-%D8%B3%D8%B9%D8%B1-%D9%81%D9%8A-%D9%85%D8%B5%D8%B1-ID201051810.html', 'https://www.dubizzle.com.eg//en/ad/%D8%AA%D8%B1%D8%A7%D9%83%D9%88-fr-ID201022880.html', 'https://www.dubizzle.com.eg//en/ad/%D8%AA%D9%88%D9%8A%D9%88%D8%AA%D8%A7-%D9%81%D9%88%D8%B1%D8%AA%D8%B4%D9%86%D8%B1-%D8%A7%D9%84%D9%8A%D8%AC%D8%A7%D9%86%D8%B3-ID200342789.html', 'https://www.dubizzle.com.eg//en/ad/%D8%B3%D9%8A%D8%A7%D8%AA-%D9%84%D9%8A%D9%88%D9%86-fr-%D8%A8%D9%8A%D8%AA%D8%B3-ID200010700.html', 'https://www.dubizzle.com.eg//en/ad/mercedes-glc-200-coupe-ID200084796.html', 'https://www.dubizzle.com.eg//en/ad/bmw-520-i-luxury-line-ID199359285.html', 'https://www.dubizzle.com.eg//en/ad/%D9%85%D8%B1%D8%B3%D9%8A%D8%AF%D8%B3-%D8%A8%D9%86%D8%B2-200-glc-%D9%83%D9%88%D8%A8%D9%8A%D9%87-ID200792590.html', 'https://www.dubizzle.com.eg//en/ad/renault-megane-2022-ID200550896.html', 'https://www.dubizzle.com.eg//en/ad/range-rover-evoque-2023-ID199160603.html', 'https://www.dubizzle.com.eg//en/ad/toyota-corolla-2024-ID200901648.html', 'https://www.dubizzle.com.eg//en/ad/%D8%AA%D9%88%D9%8A%D9%88%D8%AA%D8%A7-%D9%81%D9%88%D8%AA%D8%B4%D9%86%D8%A7%D8%B1-2024-ID201039519.html', 'https://www.dubizzle.com.eg//en/ad/tiggo-8-luxury-5-seat-%D8%A7%D9%83%D8%A8%D8%B1-%D8%AE%D8%B5%D9%85-%D9%81%D9%8A-%D9%85%D8%B5%D8%B1-%D9%84%D9%84%D9%83%D8%A7%D8%B4-ID200084883.html', 'https://www.dubizzle.com.eg//en/ad/chevrolet-menlo-best-offer-ID199757072.html', 'https://www.dubizzle.com.eg//en/ad/range-rover-velar-2024-ID201033029.html', 'https://www.dubizzle.com.eg//en/ad/%D8%B3%D9%86%D8%AA%D8%B1%D8%A7-%D9%81%D8%A7%D8%AE%D8%B1%D8%A9-ID201062398.html', 'https://www.dubizzle.com.eg//en/ad/peugeot-3008-2023-%D8%A8%D9%8A%D8%AC%D9%88-3008-2023-ID200988730.html', 'https://www.dubizzle.com.eg//en/ad/renault-twizy-2020-ID200166335.html', 'https://www.dubizzle.com.eg//en/ad/porsche-cayenne-coupe-s-2024-fully-loaded-ID201057467.html', 'https://www.dubizzle.com.eg//en/ad/opel-mokka-2024-%D8%A3%D9%88%D8%A8%D9%84-%D9%85%D9%88%D9%83%D8%A7-2024-ID200988288.html', 'https://www.dubizzle.com.eg//en/ad/mercedes-benz-cla200-2024-ID201019302.html', 'https://www.dubizzle.com.eg//en/ad/opel-crossland-2024-%D8%A7%D9%88%D8%A8%D9%84-%D9%83%D8%B1%D9%88%D8%B3-%D9%84%D8%A7%D9%86%D8%AF-2024-ID200988000.html', 'https://www.dubizzle.com.eg//en/ad/toyota-corolla-2024-%D8%AA%D9%88%D9%8A%D9%88%D8%AA%D8%A7-%D9%83%D9%88%D8%B1%D9%88%D9%84%D8%A7-2024-ID200987773.html', 'https://www.dubizzle.com.eg//en/ad/%D9%81%D8%A7%D9%86-%D9%86%D9%82%D9%84-%D8%A8%D8%B6%D8%A7%D9%8A%D8%B9-ID201007763.html', 'https://www.dubizzle.com.eg//en/ad/%D8%A8%D9%8A%D8%AC%D9%88-%D9%A3%D9%A0%D9%A7-sw-ID201000213.html', 'https://www.dubizzle.com.eg//en/ad/%D8%AF%D8%A7%D9%8A%D9%87%D8%A7%D8%AA%D8%B3%D9%88-%D9%85%D8%A7%D8%AA%D8%B1%D9%8A%D8%A7-ID200886153.html', 'https://www.dubizzle.com.eg//en/ad/%D8%B9%D8%B1%D9%88%D8%B6-%D8%A7%D9%84%D9%85%D8%AA%D8%AD%D8%AF%D8%A9-%D8%AC%D8%B1%D9%88%D8%A8-%D8%B5%D9%88%D8%B1%D8%A9-%D8%A7%D9%84%D8%A8%D8%B7%D8%A7%D9%82%D8%A9-%D8%A3%D9%82%D9%84-%D9%85%D9%82%D8%AF%D9%85-%D9%87%D9%8A%D9%88%D9%86%D8%AF%D8%A7%D9%8A-%D8%A8%D9%8A%D9%83%D8%A7%D9%86%D8%AA%D9%88-2023-ID200716170.html', 'https://www.dubizzle.com.eg//en/ad/mercedes-eqe350-2023-ID200989004.html', 'https://www.dubizzle.com.eg//en/ad/%D8%A7%D9%85-%D8%AC%D9%8A%D9%A5-ID200795628.html', 'https://www.dubizzle.com.eg//en/ad/aston-martin-dbx-707-ID201009174.html', 'https://www.dubizzle.com.eg//en/ad/range-rover-evoque-2023-ID200795979.html', 'https://www.dubizzle.com.eg//en/ad/%D8%AC%D9%8A%D9%84%D9%8A-%D9%83%D9%88%D9%84-%D8%B1%D8%A7%D9%8A-2024-%D8%AC%D8%AF%D9%8A%D8%AF%D9%87-ID201046776.html', 'https://www.dubizzle.com.eg//en/ad/%D8%B1%D9%8A%D9%86%D9%88-%D8%B3%D8%AA%D9%8A%D8%A8-%D9%88%D8%A7%D9%8A-%D9%A2%D9%A0%D9%A1%D9%A8-%D9%87%D8%A7%D9%8A-%D9%84%D8%A7%D9%8A%D9%86-renault-stepway-2018-ID200440813.html', 'https://www.dubizzle.com.eg//en/ad/seat_tarraco_xperience_2023-ID200095470.html', 'https://www.dubizzle.com.eg//en/ad/mercedes-a180-amg-2023-facelift-ID199889032.html', 'https://www.dubizzle.com.eg//en/ad/%D8%B1%D9%8A%D9%86%D9%88-%D8%AA%D9%88%D9%8A%D8%B2%D9%8A-ID201017445.html', 'https://www.dubizzle.com.eg//en/ad/suzaki-fornex-%D8%B3%D9%88%D8%B2%D9%88%D9%83%D9%8A-%D9%81%D9%88%D8%B1%D9%86%D9%83%D8%B3-ID199652292.html', 'https://www.dubizzle.com.eg//en/ad/toyota-corolla-2024-wakeel-ID200565265.html', 'https://www.dubizzle.com.eg//en/ad/cla-200-2024-amg-ID200893293.html', 'https://www.dubizzle.com.eg//en/ad/mercedes-e300e-2023-ID200065456.html', 'https://www.dubizzle.com.eg//en/ad/%D9%83%D9%8A%D8%A7-%D8%B3%D8%A8%D9%88%D8%B1%D8%AA%D8%A7%D8%AC-%D8%B2%D9%8A%D8%B1%D9%88-%D8%A7%D8%B9%D9%84%D9%8A-%D9%81%D8%A6%D9%87-%D8%A3%D8%B3%D8%A8%D8%B4%D9%8A%D8%A7%D9%84-%D8%A7%D8%AF%D9%8A%D8%B4%D9%86-%D8%B6%D9%85%D8%A7%D9%86-%D8%A7%D9%84%D9%88%D9%83%D9%8A%D9%84-%D9%84%D9%85-%D8%AA%D8%B1%D8%AE%D8%B5-%D9%85%D9%88%D8%AF%D9%8A%D9%84-%D9%A2%D9%A0%D9%A2%D9%A4-ID200825553.html', 'https://www.dubizzle.com.eg//en/ad/%D9%85%D9%8A%D8%AA%D8%B3%D9%88%D8%A8%D9%8A%D8%B4%D9%8A-%D8%A7%D9%83%D9%84%D9%8A%D8%A8%D8%B3-%D8%A8%D8%A7%D9%84%D8%B3%D8%B9%D8%B1-%D8%A7%D9%84%D8%AA%D8%AC%D8%A7%D8%B1%D9%8A-2022-mitsubishi-eclipse-ID201042293.html', 'https://www.dubizzle.com.eg//en/ad/mg-5-2024-%D8%A7%D9%85-%D8%AC%D9%8A-5-2024-ID200987815.html', 'https://www.dubizzle.com.eg//en/ad/%D8%A8%D9%8A%D8%AC%D9%88-408-%D8%AC%D8%AF%D9%8A%D8%AF%D9%87-2024-ID201048378.html']\n"
          ]
        }
      ]
    },
    {
      "cell_type": "code",
      "source": [
        "for link in links:\n",
        "  res=requests.get(link)\n",
        "  scr=res.content\n",
        "  soup=BeautifulSoup(scr,'lxml')\n",
        "  des=soup.find_all('div',{'class':'_0f86855a'})\n",
        "for i in range(len(des)):\n",
        "  description.append(des[i].find('span').text)"
      ],
      "metadata": {
        "id": "YDZBmPuis7Kn"
      },
      "execution_count": null,
      "outputs": []
    },
    {
      "cell_type": "code",
      "source": [
        "print(description)"
      ],
      "metadata": {
        "colab": {
          "base_uri": "https://localhost:8080/"
        },
        "id": "kfl44EDxuAzU",
        "outputId": "42f54899-812c-4a19-f057-cb274ebf1b5a"
      },
      "execution_count": null,
      "outputs": [
        {
          "output_type": "stream",
          "name": "stdout",
          "text": [
            "[<span>فبريكا بالكامل برة وجوة عداد ٥٧ الف كيلو سفر صيانات توكيل\n",
            "معمول صيانة ال ٦٠ قبل موعدها بالفواتير من ألف كيلو بتكلفة ١٩ ألف ولا تحتاج لمصاريف نهائي ومستعد للكشف في التوكيل…\n",
            "\n",
            "كاميرات ٣٦٠ درجة ورادار أمامي مانع للتصادم وحساسات امامية وخلفيه وسقف بانوراما وفوانيس امامي وخلفي LED، هاند بريك كهرباء، كراسي كهرباء وسخانات، هيل أسيست، تكييف تاتش دوال زوون، جميع وسائل الأمان ٨ إيرباج و ABS و EBD و ESP\n",
            "\n",
            "الاتصال للجادين فقط\n",
            "رخصة سنتين بإسمي والبيع بعقد مسجل</span>, 'فبريكا بالكامل برة وجوة عداد ٥٧ الف كيلو سفر صيانات توكيل\\nمعمول صيانة ال ٦٠ قبل موعدها بالفواتير من ألف كيلو بتكلفة ١٩ ألف ولا تحتاج لمصاريف نهائي ومستعد للكشف في التوكيل…\\n\\nكاميرات ٣٦٠ درجة ورادار أمامي مانع للتصادم وحساسات امامية وخلفيه وسقف بانوراما وفوانيس امامي وخلفي LED، هاند بريك كهرباء، كراسي كهرباء وسخانات، هيل أسيست، تكييف تاتش دوال زوون، جميع وسائل الأمان ٨ إيرباج و ABS و EBD و ESP\\n\\nالاتصال للجادين فقط\\nرخصة سنتين بإسمي والبيع بعقد مسجل']\n"
          ]
        }
      ]
    },
    {
      "cell_type": "code",
      "source": [],
      "metadata": {
        "id": "wk6xuK0NuAut"
      },
      "execution_count": null,
      "outputs": []
    }
  ]
}